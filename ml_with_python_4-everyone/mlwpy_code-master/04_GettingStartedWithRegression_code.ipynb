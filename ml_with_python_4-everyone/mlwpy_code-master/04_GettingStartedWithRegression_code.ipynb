{
 "cells": [
  {
   "cell_type": "code",
   "execution_count": null,
   "metadata": {},
   "outputs": [],
   "source": [
    "# setup\n",
    "from mlwpy import *\n",
    "%matplotlib inline"
   ]
  },
  {
   "cell_type": "code",
   "execution_count": null,
   "metadata": {},
   "outputs": [],
   "source": [
    "diabetes = datasets.load_diabetes()\n",
    "\n",
    "tts = skms.train_test_split(diabetes.data,\n",
    "                            diabetes.target, \n",
    "                            test_size=.25)\n",
    "\n",
    "(diabetes_train_ftrs, diabetes_test_ftrs, \n",
    " diabetes_train_tgt,  diabetes_test_tgt) = tts"
   ]
  },
  {
   "cell_type": "code",
   "execution_count": null,
   "metadata": {},
   "outputs": [],
   "source": [
    "diabetes_df = pd.DataFrame(diabetes.data, \n",
    "                           columns=diabetes.feature_names)\n",
    "diabetes_df['target'] = diabetes.target\n",
    "diabetes_df.head()"
   ]
  },
  {
   "cell_type": "code",
   "execution_count": null,
   "metadata": {},
   "outputs": [],
   "source": [
    "sns.pairplot(diabetes_df[['age', 'sex', 'bmi', 'bp', 's1']], \n",
    "             height=1.5, hue='sex', plot_kws={'alpha':.2});"
   ]
  },
  {
   "cell_type": "code",
   "execution_count": null,
   "metadata": {},
   "outputs": [],
   "source": [
    "values = np.array([1, 3, 5, 8, 11, 13, 15])\n",
    "print(\"no outlier\")\n",
    "print(np.mean(values), \n",
    "      np.median(values))\n",
    "\n",
    "values_with_outlier = np.array([1, 3, 5, 8, 11, 13, 40])\n",
    "print(\"with outlier\")\n",
    "print(\"%5.2f\" % np.mean(values_with_outlier), \n",
    "      np.median(values_with_outlier))"
   ]
  },
  {
   "cell_type": "code",
   "execution_count": null,
   "metadata": {},
   "outputs": [],
   "source": [
    "distances = np.array([4.0, 2.0, 2.0])\n",
    "closeness = 1.0 / distances              # element-by-element division\n",
    "weights = closeness / np.sum(closeness)  # normalize sum to one\n",
    "weights"
   ]
  },
  {
   "cell_type": "code",
   "execution_count": null,
   "metadata": {},
   "outputs": [],
   "source": [
    "values = np.array([4,6,8])\n",
    "\n",
    "mean = np.mean(values)\n",
    "wgt_mean = np.dot(values, weights)\n",
    "\n",
    "print(\"Mean:\", mean)\n",
    "print(\"Weighted Mean:\", wgt_mean)"
   ]
  },
  {
   "cell_type": "code",
   "execution_count": null,
   "metadata": {},
   "outputs": [],
   "source": [
    "knn   = neighbors.KNeighborsRegressor(n_neighbors=3)\n",
    "fit   = knn.fit(diabetes_train_ftrs, diabetes_train_tgt)\n",
    "preds = fit.predict(diabetes_test_ftrs)\n",
    "\n",
    "# evaluate our predictions against the held-back testing targets\n",
    "metrics.mean_squared_error(diabetes_test_tgt, preds)"
   ]
  },
  {
   "cell_type": "code",
   "execution_count": null,
   "metadata": {},
   "outputs": [],
   "source": [
    "np.sqrt(3500)"
   ]
  },
  {
   "cell_type": "code",
   "execution_count": null,
   "metadata": {},
   "outputs": [],
   "source": [
    "diabetes_df['target'].max() - diabetes_df['target'].min()"
   ]
  },
  {
   "cell_type": "code",
   "execution_count": null,
   "metadata": {},
   "outputs": [],
   "source": [
    "def axis_helper(ax, lims):\n",
    "    'clean up axes'\n",
    "    ax.set_xlim(lims); ax.set_xticks([])\n",
    "    ax.set_ylim(lims); ax.set_yticks([])\n",
    "    ax.set_aspect('equal')"
   ]
  },
  {
   "cell_type": "code",
   "execution_count": null,
   "metadata": {},
   "outputs": [],
   "source": [
    "# our data is very simple:  two (x,y) points\n",
    "D = np.array([[3,5],\n",
    "              [4,2]])\n",
    "\n",
    "# we'll take x as our \"input\" and y as our \"output\"\n",
    "x,y = D[:,0], D[:,1]"
   ]
  },
  {
   "cell_type": "code",
   "execution_count": null,
   "metadata": {},
   "outputs": [],
   "source": [
    "horizontal_lines = np.array([1, 2, 3, 3.5, 4, 5])\n",
    "\n",
    "results = []\n",
    "fig, axes = plt.subplots(1,6,figsize=(10,5))\n",
    "for h_line, ax in zip(horizontal_lines, axes.flat):\n",
    "    # styling\n",
    "    axis_helper(ax, (0,6))\n",
    "    ax.set_title(str(h_line))\n",
    "    \n",
    "    # plot the data\n",
    "    ax.plot(x,y, 'ro')\n",
    "    \n",
    "    # plot the prediction line\n",
    "    ax.axhline(h_line, color='y') # ax coords; defaults to 100%    \n",
    "\n",
    "    # plot the errors\n",
    "    # the horizontal line *is* our prediction; renaming for clarity\n",
    "    predictions = h_line \n",
    "    ax.vlines(x, predictions, y)\n",
    "    \n",
    "    # calculate the error amounts and their sum-of-squares\n",
    "    errors = y - predictions\n",
    "    sse = np.dot(errors, errors)\n",
    "\n",
    "    \n",
    "    # put together some results in a tuple\n",
    "    results.append((predictions, \n",
    "                    errors, errors.sum(), \n",
    "                    sse, np.sqrt(sse)))"
   ]
  },
  {
   "cell_type": "code",
   "execution_count": null,
   "metadata": {},
   "outputs": [],
   "source": [
    "col_labels = \"Prediction\", \"Errors\", \"Sum\", \"SSE\", \"Distance\"\n",
    "display(pd.DataFrame.from_records(results, \n",
    "                                  columns=col_labels, \n",
    "                                  index=\"Prediction\"))"
   ]
  },
  {
   "cell_type": "code",
   "execution_count": null,
   "metadata": {},
   "outputs": [],
   "source": [
    "def process(D, model, ax):\n",
    "    # make some useful abbreviations/names\n",
    "    # y is our \"actual\"\n",
    "    x, y = D[:,0], D[:,1] \n",
    "    m, b = model\n",
    "    \n",
    "    # styling\n",
    "    axis_helper(ax, (0,8))\n",
    "\n",
    "    # plot the data\n",
    "    ax.plot(x,y,'ro')\n",
    "\n",
    "    # plot the prediction line\n",
    "    helper_xs = np.array([0,8])\n",
    "    helper_line = m * helper_xs + b\n",
    "    ax.plot(helper_xs, helper_line, color='y')\n",
    "    \n",
    "    # plot the errors\n",
    "    predictions = m * x + b\n",
    "    ax.vlines(x, predictions, y)\n",
    "    \n",
    "    # calculate error amounts\n",
    "    errors = y - predictions\n",
    "    \n",
    "    # tuple up the results\n",
    "    sse = np.dot(errors, errors)\n",
    "    return (errors, errors.sum(), sse, np.sqrt(sse))"
   ]
  },
  {
   "cell_type": "code",
   "execution_count": null,
   "metadata": {},
   "outputs": [],
   "source": [
    "# our data is very simple:  two (x,y) points\n",
    "D = np.array([[3,5],\n",
    "              [4,2]])\n",
    "\n",
    "#                      m   b  --> predictions = mx + b\n",
    "lines_mb = np.array([[ 1,  0],\n",
    "                     [ 1,  1],\n",
    "                     [ 1,  2],\n",
    "                     [-1,  8],\n",
    "                     [-3, 14]])\n",
    "\n",
    "col_labels = (\"Raw Errors\", \"Sum\", \"SSE\", \"TotDist\")\n",
    "results = []\n",
    "\n",
    "# note: plotting occurs in process()\n",
    "fig, axes = plt.subplots(1,5,figsize=(12,6))\n",
    "records = [process(D, mod, ax) for mod,ax in zip(lines_mb, axes.flat)]\n",
    "df = pd.DataFrame.from_records(records, columns=col_labels)\n",
    "display(df)"
   ]
  },
  {
   "cell_type": "code",
   "execution_count": null,
   "metadata": {},
   "outputs": [],
   "source": [
    "lr    = linear_model.LinearRegression()\n",
    "fit   = lr.fit(diabetes_train_ftrs, diabetes_train_tgt)\n",
    "preds = fit.predict(diabetes_test_ftrs)\n",
    "\n",
    "# evaluate our predictions against the unseen testing targets\n",
    "metrics.mean_squared_error(diabetes_test_tgt, preds)"
   ]
  },
  {
   "cell_type": "code",
   "execution_count": null,
   "metadata": {},
   "outputs": [],
   "source": [
    "tgt = np.array([3,5,8,10,12,15])"
   ]
  },
  {
   "cell_type": "code",
   "execution_count": null,
   "metadata": {},
   "outputs": [],
   "source": [
    "# random guesses with| some constraints\n",
    "num_guesses = 10\n",
    "results = []\n",
    "for g in range(num_guesses):\n",
    "    guess = np.random.uniform(low=tgt.min(), high=tgt.max())\n",
    "    total_dist = np.sum((tgt - guess)**2)\n",
    "    results.append((total_dist, guess))\n",
    "best_guess = sorted(results)[0][1]\n",
    "best_guess"
   ]
  },
  {
   "cell_type": "code",
   "execution_count": null,
   "metadata": {},
   "outputs": [],
   "source": [
    "# use a random choice to take a hypothetical \n",
    "# step up or down:  follow it, if it is an improvement\n",
    "num_steps = 100\n",
    "step_size = .05\n",
    "\n",
    "best_guess = np.random.uniform(low=tgt.min(), high=tgt.max())\n",
    "best_dist  = np.sum((tgt - best_guess)**2)\n",
    "\n",
    "for s in range(num_steps):\n",
    "    new_guess = best_guess + (np.random.choice([+1, -1]) * step_size)\n",
    "    new_dist = np.sum((tgt - new_guess)**2)\n",
    "    if new_dist < best_dist:\n",
    "        best_guess, best_dist = new_guess, new_dist\n",
    "print(best_guess)"
   ]
  },
  {
   "cell_type": "code",
   "execution_count": null,
   "metadata": {},
   "outputs": [],
   "source": [
    "# hypothetically take both steps (up and down)\n",
    "# choose the better of the two.\n",
    "# if it is an improvement, follow that step\n",
    "num_steps = 1000\n",
    "step_size = .02\n",
    "\n",
    "best_guess = np.random.uniform(low=tgt.min(), high=tgt.max())\n",
    "best_dist  = np.sum((tgt - best_guess)**2)\n",
    "print(\"start:\", best_guess)\n",
    "for s in range(num_steps):\n",
    "    # np.newaxis is needed to align the minus\n",
    "    guesses = best_guess + (np.array([-1, 1]) * step_size)\n",
    "    dists   = np.sum((tgt[:,np.newaxis] - guesses)**2, axis=0)\n",
    "    \n",
    "    better_idx = np.argmin(dists)\n",
    "\n",
    "    if dists[better_idx] > best_dist:\n",
    "        break\n",
    "    \n",
    "    best_guess = guesses[better_idx]\n",
    "    best_dist  = dists[better_idx]\n",
    "print(\"  end:\", best_guess)"
   ]
  },
  {
   "cell_type": "code",
   "execution_count": null,
   "metadata": {},
   "outputs": [],
   "source": [
    "print(\"mean:\", np.mean(tgt))"
   ]
  },
  {
   "cell_type": "code",
   "execution_count": null,
   "metadata": {},
   "outputs": [],
   "source": [
    "# stand alone code\n",
    "from sklearn import (datasets, neighbors, \n",
    "                     model_selection as skms,\n",
    "                     linear_model, metrics)\n",
    "\n",
    "diabetes = datasets.load_diabetes()\n",
    "tts =  skms.train_test_split(diabetes.data,\n",
    "                             diabetes.target, \n",
    "                             test_size=.25)\n",
    "(diabetes_train, diabetes_test, \n",
    " diabetes_train_tgt, diabetes_test_tgt) = tts\n",
    "\n",
    "models = {'kNN': neighbors.KNeighborsRegressor(n_neighbors=3),\n",
    "          'linreg' : linear_model.LinearRegression()}\n",
    "\n",
    "for name, model in models.items():\n",
    "    fit   = model.fit(diabetes_train, diabetes_train_tgt)\n",
    "    preds = fit.predict(diabetes_test)\n",
    "\n",
    "    score = np.sqrt(metrics.mean_squared_error(diabetes_test_tgt, preds))\n",
    "    print(\"{:>6s} : {:0.2f}\".format(name,score))"
   ]
  },
  {
   "cell_type": "code",
   "execution_count": null,
   "metadata": {},
   "outputs": [],
   "source": [
    "!cat scripts/perf_02.py"
   ]
  },
  {
   "cell_type": "code",
   "execution_count": null,
   "metadata": {},
   "outputs": [],
   "source": [
    "!python scripts/perf_02.py mem lr\n",
    "!python scripts/perf_02.py time lr"
   ]
  },
  {
   "cell_type": "code",
   "execution_count": null,
   "metadata": {},
   "outputs": [],
   "source": [
    "!python scripts/perf_02.py mem knn\n",
    "!python scripts/perf_02.py time knn"
   ]
  }
 ],
 "metadata": {},
 "nbformat": 4,
 "nbformat_minor": 2
}
