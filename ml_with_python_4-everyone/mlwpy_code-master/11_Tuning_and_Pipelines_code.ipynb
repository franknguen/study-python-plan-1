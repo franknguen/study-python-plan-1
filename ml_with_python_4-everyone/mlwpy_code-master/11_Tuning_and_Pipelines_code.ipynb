{
 "cells": [
  {
   "cell_type": "code",
   "execution_count": null,
   "metadata": {},
   "outputs": [],
   "source": [
    "# setup\n",
    "from mlwpy import *\n",
    "%matplotlib inline\n",
    "\n",
    "iris = datasets.load_iris()\n",
    "diabetes = datasets.load_diabetes()\n",
    "digits = datasets.load_digits()"
   ]
  },
  {
   "cell_type": "code",
   "execution_count": null,
   "metadata": {},
   "outputs": [],
   "source": [
    "def add_three(x):\n",
    "    return 3 + x\n",
    "def add(x, y):\n",
    "    return x + y\n",
    "\n",
    "add(10,3) == add_three(10)"
   ]
  },
  {
   "cell_type": "code",
   "execution_count": null,
   "metadata": {},
   "outputs": [],
   "source": [
    "def make_adder(k):\n",
    "    def add_k(x):\n",
    "        return x + k\n",
    "    return add_k  \n",
    "\n",
    "# a call that creates a function\n",
    "three_adder = make_adder(3)\n",
    "\n",
    " # using that created function\n",
    "three_adder(10) == add_three(10)"
   ]
  },
  {
   "cell_type": "code",
   "execution_count": null,
   "metadata": {},
   "outputs": [],
   "source": [
    "knn = neighbors.KNeighborsClassifier()\n",
    "print(\" \".join(knn.get_params().keys()))"
   ]
  },
  {
   "cell_type": "code",
   "execution_count": null,
   "metadata": {},
   "outputs": [],
   "source": [
    "param_grid = {\"n_neighbors\" : [1,3,5,10,20]}\n",
    "\n",
    "knn = neighbors.KNeighborsClassifier()\n",
    "# warning! this is with accuracy\n",
    "grid_model = skms.GridSearchCV(knn,\n",
    "                               return_train_score=True,\n",
    "                               param_grid = param_grid, \n",
    "                               cv=10)\n",
    "\n",
    "grid_model.fit(digits.data, digits.target)"
   ]
  },
  {
   "cell_type": "code",
   "execution_count": null,
   "metadata": {},
   "outputs": [],
   "source": [
    "# many columns in .cv_results_ \n",
    "# all params are also available in 'params' column as dict\n",
    "param_cols = ['param_n_neighbors']\n",
    "score_cols = ['mean_train_score', 'std_train_score',\n",
    "              'mean_test_score', 'std_test_score']\n",
    "\n",
    "# look at first five params with head()\n",
    "df = pd.DataFrame(grid_model.cv_results_).head()\n",
    "\n",
    "display(df[param_cols + score_cols])"
   ]
  },
  {
   "cell_type": "code",
   "execution_count": null,
   "metadata": {},
   "outputs": [],
   "source": [
    "# subselect columns of interest:  \n",
    "# param_* is a bit verbose\n",
    "grid_df = pd.DataFrame(grid_model.cv_results_, \n",
    "                       columns=['param_n_neighbors',\n",
    "                                'mean_train_score',\n",
    "                                'mean_test_score'])\n",
    "grid_df.set_index('param_n_neighbors', inplace=True)\n",
    "display(grid_df)"
   ]
  },
  {
   "cell_type": "code",
   "execution_count": null,
   "metadata": {},
   "outputs": [],
   "source": [
    "ax = grid_df.plot.line(marker='.')\n",
    "ax.set_xticks(grid_df.index);"
   ]
  },
  {
   "cell_type": "code",
   "execution_count": null,
   "metadata": {},
   "outputs": [],
   "source": [
    "def best_model_hyper_params(make_a_model,\n",
    "                            some_hyper_params,\n",
    "                            data):\n",
    "    results = {}\n",
    "    for hyper_params in it.combinations(some_hyper_params):\n",
    "        for train,test in make_cv_split(data):\n",
    "            model = make_a_model(*hyper_params).fit(train)\n",
    "            key = tuple(hyper_params)\n",
    "            if key not in results:\n",
    "                results[key] = []\n",
    "            results[key].append(score(test, model.predict(test)))\n",
    "            # or, rockstars can use this instead of the prior 4 lines:\n",
    "            # (results.setdefault(tuple(hyper_params), [])\n",
    "            #         .append(score(test, model.predict(test)))\n",
    "    \n",
    "    best_hp = max(results, key=results.get)\n",
    "    best_model = make_a_model(*best_hp).fit(data)\n",
    "    return best_model\n",
    "\n",
    "def do_it():\n",
    "    model = pick_a_model # e.g., kNN\n",
    "\n",
    "    some_hyper_params = [values_for_hyper_param_1, # e.g., n_neighbors=[]\n",
    "                         values_for_hyper_param_2,\n",
    "                         values_for_hyper_param_3]\n",
    "\n",
    "    best_model_hyper_params(model_type, \n",
    "                            some_hyper_params, \n",
    "                            data)"
   ]
  },
  {
   "cell_type": "code",
   "execution_count": null,
   "metadata": {},
   "outputs": [],
   "source": [
    "param_grid = {\"n_neighbors\" : np.arange(1,11),\n",
    "              \"weights\"     : ['uniform', 'distance'],\n",
    "              \"p\"           : [1,2,4,8,16]}\n",
    "\n",
    "knn = neighbors.KNeighborsClassifier()\n",
    "grid_model = skms.GridSearchCV(knn, param_grid = param_grid, cv=10)"
   ]
  },
  {
   "cell_type": "code",
   "execution_count": null,
   "metadata": {},
   "outputs": [],
   "source": [
    "# digits takes ~30 mins on my older laptop\n",
    "# %timeit -r1 grid_model.fit(digits.data, digits.target)\n",
    "%timeit -r1 grid_model.fit(iris.data, iris.target)"
   ]
  },
  {
   "cell_type": "code",
   "execution_count": null,
   "metadata": {},
   "outputs": [],
   "source": [
    "param_df = pd.DataFrame.from_records(grid_model.cv_results_['params'])\n",
    "param_df['mean_test_score'] = grid_model.cv_results_['mean_test_score']\n",
    "param_df.sort_values(by=['mean_test_score']).tail()"
   ]
  },
  {
   "cell_type": "code",
   "execution_count": null,
   "metadata": {},
   "outputs": [],
   "source": [
    "print(\"Best Estimator:\", grid_model.best_estimator_,\n",
    "      \"Best Score:\",     grid_model.best_score_,\n",
    "      \"Best Params:\",    grid_model.best_params_, sep=\"\\n\")"
   ]
  },
  {
   "cell_type": "code",
   "execution_count": null,
   "metadata": {},
   "outputs": [],
   "source": [
    "import scipy.stats as ss\n",
    "knn = neighbors.KNeighborsClassifier()\n",
    "param_dists = {\"n_neighbors\" : ss.randint(1,11), # values from [1,10]\n",
    "               \"weights\"     : ['uniform', 'distance'],\n",
    "               \"p\"           : ss.geom(p=.5)}\n",
    "\n",
    "mod = skms.RandomizedSearchCV(knn, \n",
    "                              param_distributions = param_dists,\n",
    "                              cv=10, \n",
    "                              n_iter=20) # how many times do we sample?\n",
    "\n",
    "# fitting 20 models\n",
    "%timeit -r1 mod.fit(iris.data, iris.target)\n",
    "print(mod.best_score_)"
   ]
  },
  {
   "cell_type": "code",
   "execution_count": null,
   "metadata": {},
   "outputs": [],
   "source": [
    "param_grid = {\"n_neighbors\" : np.arange(1,11),\n",
    "              \"weights\"     : ['uniform', 'distance'],\n",
    "              \"p\"           : [1,2,4,8,16]}\n",
    "\n",
    "knn = neighbors.KNeighborsClassifier()\n",
    "grid_knn = skms.GridSearchCV(knn, \n",
    "                             param_grid = param_grid, \n",
    "                             iid=False, cv=3)"
   ]
  },
  {
   "cell_type": "code",
   "execution_count": null,
   "metadata": {},
   "outputs": [],
   "source": [
    "outer_scores = skms.cross_val_score(grid_knn, \n",
    "                                    iris.data, iris.target,\n",
    "                                    cv=5)\n",
    "print(outer_scores)"
   ]
  },
  {
   "cell_type": "code",
   "execution_count": null,
   "metadata": {},
   "outputs": [],
   "source": [
    "def nested_cv_pseudo_code(all_data):\n",
    "    results = []\n",
    "    for outer_train, test in make_cv_split(all_data):\n",
    "        for hyper_params in hyper_paramater_possibilities:\n",
    "            for train, valid in make_cv_split(outer_train):\n",
    "                inner_score = evaluate(model.fit(train).predict(valid))\n",
    "        best_mod = xxx # choose model with best inner_score\n",
    "        preds = best_model.fit(outer_train).predict(test)\n",
    "        results.append(evaluate(preds))"
   ]
  },
  {
   "cell_type": "code",
   "execution_count": null,
   "metadata": {},
   "outputs": [],
   "source": [
    "param_grid = {\"n_neighbors\" : np.arange(1,11),\n",
    "              \"weights\"     : ['uniform', 'distance'],\n",
    "              \"p\"           : [1,2,4,8,16]}\n",
    "\n",
    "knn = neighbors.KNeighborsClassifier()\n",
    "grid_knn = skms.GridSearchCV(knn, \n",
    "                             param_grid = param_grid, \n",
    "                             iid=False, cv=2)\n",
    "\n",
    "outer_scores = skms.cross_val_score(grid_knn,\n",
    "                                    iris.data, \n",
    "                                    iris.target,\n",
    "                                    cv=5)\n",
    "# how does this do over all??\n",
    "print(outer_scores)"
   ]
  },
  {
   "cell_type": "code",
   "execution_count": null,
   "metadata": {},
   "outputs": [],
   "source": [
    "grid_knn.fit(iris.data, iris.target)\n",
    "preferred_params = grid_knn.best_estimator_.get_params()\n",
    "final_knn = neighbors.KNeighborsClassifier(**preferred_params)\n",
    "final_knn.fit(iris.data, iris.target)"
   ]
  },
  {
   "cell_type": "code",
   "execution_count": null,
   "metadata": {},
   "outputs": [],
   "source": [
    "scaler = skpre.StandardScaler()\n",
    "logreg = linear_model.LogisticRegression()\n",
    "\n",
    "pipe = pipeline.make_pipeline(scaler, logreg)\n",
    "print(skms.cross_val_score(pipe, iris.data, iris.target, cv=10))"
   ]
  },
  {
   "cell_type": "code",
   "execution_count": null,
   "metadata": {},
   "outputs": [],
   "source": [
    "def extract_name(obj):\n",
    "    return str(logreg.__class__).split('.')[-1][:-2].lower() \n",
    "\n",
    "print(logreg.__class__)\n",
    "print(extract_name(logreg))"
   ]
  },
  {
   "cell_type": "code",
   "execution_count": null,
   "metadata": {},
   "outputs": [],
   "source": [
    "pipe.named_steps.keys()"
   ]
  },
  {
   "cell_type": "code",
   "execution_count": null,
   "metadata": {},
   "outputs": [],
   "source": [
    "pipe = pipeline.Pipeline(steps=[('scaler', scaler),\n",
    "                                ('knn', knn)])\n",
    "\n",
    "cv_scores = skms.cross_val_score(pipe, iris.data, iris.target, \n",
    "                                 cv=10, \n",
    "                                 n_jobs=-1) # all CPUs\n",
    "print(pipe.named_steps.keys())\n",
    "print(cv_scores)"
   ]
  },
  {
   "cell_type": "code",
   "execution_count": null,
   "metadata": {},
   "outputs": [],
   "source": [
    "from sklearn.base import TransformerMixin\n",
    "class Median_Big_Small(TransformerMixin):\n",
    "    def __init__(self):\n",
    "        pass\n",
    "    def fit(self, ftrs, tgt=None):\n",
    "        self.medians = np.median(ftrs)\n",
    "        return self\n",
    "    def transform(self, ftrs, tgt=None):\n",
    "        return ftrs > self.medians"
   ]
  },
  {
   "cell_type": "code",
   "execution_count": null,
   "metadata": {},
   "outputs": [],
   "source": [
    "scaler = skpre.StandardScaler()\n",
    "quad_inters = skpre.PolynomialFeatures(degree=2,              \n",
    "                                       interaction_only=True, \n",
    "                                       include_bias=False)\n",
    "median_big_small = Median_Big_Small()\n",
    "knn = neighbors.KNeighborsClassifier()\n",
    "\n",
    "pipe = pipeline.Pipeline(steps=[('scaler', scaler),\n",
    "                                ('inter',  quad_inters),\n",
    "                                ('mbs',    median_big_small),\n",
    "                                ('knn',    knn)])\n",
    "\n",
    "cv_scores = skms.cross_val_score(pipe, iris.data, iris.target, cv=10)\n",
    "\n",
    "print(cv_scores)"
   ]
  },
  {
   "cell_type": "code",
   "execution_count": null,
   "metadata": {},
   "outputs": [],
   "source": [
    "# create pipeline components and pipeline\n",
    "scaler = skpre.StandardScaler()\n",
    "poly   = skpre.PolynomialFeatures()\n",
    "lasso  = linear_model.Lasso(selection='random', tol=.01)\n",
    "pipe = pipeline.make_pipeline(scaler, \n",
    "                              poly, \n",
    "                              lasso)"
   ]
  },
  {
   "cell_type": "code",
   "execution_count": null,
   "metadata": {},
   "outputs": [],
   "source": [
    "# specified hyper-parameters to compare\n",
    "param_grid = {\"polynomialfeatures__degree\" : np.arange(2,6),\n",
    "              \"lasso__alpha\" : np.logspace(1,6,6,base=2)}\n",
    "\n",
    "from pprint import pprint as pp\n",
    "pp(param_grid)"
   ]
  },
  {
   "cell_type": "code",
   "execution_count": null,
   "metadata": {},
   "outputs": [],
   "source": [
    "# iid to silence warning\n",
    "mod = skms.GridSearchCV(pipe, param_grid, iid=False, n_jobs=-1)\n",
    "mod.fit(diabetes.data, diabetes.target);"
   ]
  },
  {
   "cell_type": "code",
   "execution_count": null,
   "metadata": {},
   "outputs": [],
   "source": [
    "for name, step in mod.best_estimator_.named_steps.items():\n",
    "    print(\"Step:\", name)\n",
    "    print(textwrap.indent(textwrap.fill(str(step), 50), \" \" * 6))"
   ]
  },
  {
   "cell_type": "code",
   "execution_count": null,
   "metadata": {},
   "outputs": [],
   "source": [
    "pp(mod.best_params_)"
   ]
  }
 ],
 "metadata": {},
 "nbformat": 4,
 "nbformat_minor": 2
}
